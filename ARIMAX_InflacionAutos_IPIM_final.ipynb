{
 "cells": [
  {
   "cell_type": "markdown",
   "metadata": {},
   "source": [
    "1. Directorio de Trabajo"
   ]
  },
  {
   "cell_type": "code",
   "execution_count": null,
   "metadata": {},
   "outputs": [],
   "source": [
    "pwd"
   ]
  },
  {
   "cell_type": "markdown",
   "metadata": {},
   "source": [
    "2. Importar el archivo ==> bbdd es un DATAFRAME"
   ]
  },
  {
   "cell_type": "code",
   "execution_count": null,
   "metadata": {},
   "outputs": [],
   "source": [
    "import pandas as pd\n",
    "\n",
    "bbdd=pd.read_csv(r'BBDD3.csv',delimiter=';')\n",
    "\n",
    "print(bbdd)\n"
   ]
  },
  {
   "cell_type": "markdown",
   "metadata": {},
   "source": [
    "3. Instalo ultima version de Stats Models"
   ]
  },
  {
   "cell_type": "code",
   "execution_count": null,
   "metadata": {},
   "outputs": [],
   "source": [
    "#conda install -c conda-forge statsmodels3"
   ]
  },
  {
   "cell_type": "markdown",
   "metadata": {},
   "source": [
    "4. Importo Libreria de Stats Model"
   ]
  },
  {
   "cell_type": "code",
   "execution_count": null,
   "metadata": {},
   "outputs": [],
   "source": [
    "import statsmodels.api as sm\n",
    "import pandas as pd\n",
    "import matplotlib.pyplot as plt\n",
    "import numpy as np\n",
    "\n",
    "from statsmodels.graphics.api import qqplot\n",
    "from patsy import dmatrices\n",
    "from statsmodels.tsa.arima.model import ARIMA"
   ]
  },
  {
   "cell_type": "markdown",
   "metadata": {},
   "source": [
    "5. Analisis de Estacionariedad\n",
    "https://www.youtube.com/watch?v=warCSvy1DMk"
   ]
  },
  {
   "cell_type": "code",
   "execution_count": null,
   "metadata": {},
   "outputs": [],
   "source": [
    "plt.plot(bbdd['SA'])"
   ]
  },
  {
   "cell_type": "code",
   "execution_count": null,
   "metadata": {},
   "outputs": [],
   "source": [
    "from statsmodels.tsa.stattools import adfuller"
   ]
  },
  {
   "cell_type": "code",
   "execution_count": null,
   "metadata": {},
   "outputs": [],
   "source": [
    "X=bbdd['SA'].values\n",
    "results=adfuller(X)\n",
    "print('ADF Statistics: %f' % results[0])\n",
    "print('p-value: %f' % results[1])\n",
    "print('Critical Values:')\n",
    "for key, value in  results[4].items():\n",
    "    print ('\\t%s: %.3f' % (key,value))\n",
    "\n",
    "if results[0]<results[4] [\"10%\"]:\n",
    "    print(\"Reject H0 - Time Series Is Stationary\")\n",
    "else:\n",
    "    print(\"Failed to Reject H0 - Time Series is Non-Stationary\")"
   ]
  },
  {
   "cell_type": "markdown",
   "metadata": {},
   "source": [
    "6. Definición del orden de los procesos ARMA(p,q)"
   ]
  },
  {
   "cell_type": "code",
   "execution_count": null,
   "metadata": {},
   "outputs": [],
   "source": [
    "from pmdarima import auto_arima\n",
    "import warnings\n",
    "warnings.filterwarnings(\"ignore\")"
   ]
  },
  {
   "cell_type": "code",
   "execution_count": null,
   "metadata": {},
   "outputs": [],
   "source": [
    "#AutoML\n",
    "#!pip install pmdarima\n"
   ]
  },
  {
   "cell_type": "code",
   "execution_count": null,
   "metadata": {},
   "outputs": [],
   "source": [
    "#a.AutoML\n",
    "stepwise_fit=auto_arima(bbdd['SA'], trace= True, supresswarnings= True)\n",
    "stepwise_fit.summary()\n",
    "#Arima(0,0,0)"
   ]
  },
  {
   "cell_type": "code",
   "execution_count": null,
   "metadata": {},
   "outputs": [],
   "source": [
    "#b.Vamos a analizar ACF & PACF\n",
    "sm.graphics.tsa.plot_acf(bbdd['SA'].values.squeeze(), lags=10)  #MA\n",
    "sm.graphics.tsa.plot_pacf(bbdd['SA'].values.squeeze(), lags=10) #AR\n",
    "plt.show()"
   ]
  },
  {
   "cell_type": "markdown",
   "metadata": {},
   "source": [
    "7. Arimax(p,q,diferencia)"
   ]
  },
  {
   "cell_type": "code",
   "execution_count": null,
   "metadata": {},
   "outputs": [],
   "source": [
    "#Me fijo las funciones de la libreria\n",
    "#dir(sm.tsa)\n",
    "\n",
    "#Defino las Bases\n",
    "dta = bbdd[['SA', 'Dev t', 'Dev t-1', 'Dev t-2', 'Dev t-3', 'Dev t-4', 'Dev t-5' , 'Dev t-6', 'Dev t-7', 'Dev t-8', 'Dev t-9', 'Dev t-10', 'Dev t-11', 'Dev t-12']]\n",
    "endogena = dta['SA']\n",
    "exogena = dta[['Dev t', 'Dev t-1', 'Dev t-2', 'Dev t-3', 'Dev t-4', 'Dev t-5' , 'Dev t-6', 'Dev t-7', 'Dev t-8', 'Dev t-9', 'Dev t-10', 'Dev t-11', 'Dev t-12']]\n",
    "print(exogena)\n",
    "exogena_array=exogena.to_numpy()\n",
    "print(exogena_array)\n",
    "\n"
   ]
  },
  {
   "cell_type": "code",
   "execution_count": null,
   "metadata": {},
   "outputs": [],
   "source": [
    "#Corro el Modelo\n",
    "arma_mod20 = ARIMA(endogena, exog=exogena ,order=(0, 0, 0)).fit() #order(p,i,q)\n",
    "print(arma_mod20.summary())\n",
    "#Interpretacion de salida de la regresion https://www.youtube.com/watch?v=VvlqA-iO2HA"
   ]
  },
  {
   "cell_type": "code",
   "execution_count": null,
   "metadata": {},
   "outputs": [],
   "source": [
    "#En el grafico de correlacion de Inflacion de Suma y Dev t-k, aparecen como relevantes t-1 & t-6\n",
    "#En la regresion aparecen significativos: t-1, t-6, t-7 probamos ajustar con esos periodos\n",
    "endogena2 = dta['SA']\n",
    "exogena2 = dta[['Dev t', 'Dev t-1', 'Dev t-3', 'Dev t-8', 'Dev t-11']]\n",
    "print(exogena2)\n",
    "exogena2_array=exogena2.to_numpy()\n",
    "print(exogena2_array)"
   ]
  },
  {
   "cell_type": "code",
   "execution_count": null,
   "metadata": {
    "scrolled": false
   },
   "outputs": [],
   "source": [
    "#Corro el Modelo Iteracion 2\n",
    "arma_mod20_2 = ARIMA(endogena2, exog=exogena2 ,order=(0, 0, 0)).fit()\n",
    "print(arma_mod20_2.summary())\n"
   ]
  },
  {
   "cell_type": "markdown",
   "metadata": {},
   "source": [
    "Tenemos la ecuación de Inflación de Autopartes: Inf_Repuestos(t)=0.0115+0.37*Dev(t)+0.103*Dev(t-1)+0.0741*Dev(t-9)"
   ]
  },
  {
   "cell_type": "code",
   "execution_count": null,
   "metadata": {},
   "outputs": [],
   "source": [
    "#Aplicamos el modelo para ver errores\n",
    "\n",
    "residuals = pd.DataFrame(arma_mod20_2.resid)\n",
    "residuals.plot()\n",
    "residuals.plot(kind='kde')\n",
    "plt.show()\n",
    "print(residuals.describe())"
   ]
  },
  {
   "cell_type": "code",
   "execution_count": null,
   "metadata": {},
   "outputs": [],
   "source": []
  }
 ],
 "metadata": {
  "kernelspec": {
   "display_name": "Python 3",
   "language": "python",
   "name": "python3"
  },
  "language_info": {
   "codemirror_mode": {
    "name": "ipython",
    "version": 3
   },
   "file_extension": ".py",
   "mimetype": "text/x-python",
   "name": "python",
   "nbconvert_exporter": "python",
   "pygments_lexer": "ipython3",
   "version": "3.8.5"
  }
 },
 "nbformat": 4,
 "nbformat_minor": 4
}

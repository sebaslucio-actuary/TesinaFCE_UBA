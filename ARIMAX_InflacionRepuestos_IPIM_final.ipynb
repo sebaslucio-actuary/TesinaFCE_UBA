{
 "cells": [
  {
   "cell_type": "markdown",
   "metadata": {},
   "source": [
    "1. Directorio de Trabajo"
   ]
  },
  {
   "cell_type": "code",
   "execution_count": 1,
   "metadata": {},
   "outputs": [
    {
     "data": {
      "text/plain": [
       "'C:\\\\Users\\\\sebas'"
      ]
     },
     "execution_count": 1,
     "metadata": {},
     "output_type": "execute_result"
    }
   ],
   "source": [
    "pwd"
   ]
  },
  {
   "cell_type": "markdown",
   "metadata": {},
   "source": [
    "2. Importar el archivo ==> bbdd es un DATAFRAME"
   ]
  },
  {
   "cell_type": "code",
   "execution_count": 2,
   "metadata": {},
   "outputs": [
    {
     "name": "stdout",
     "output_type": "stream",
     "text": [
      "      aamm  Autopartes        SA       Dev  TC Multilateral  Inf Salarios  \\\n",
      "0   201601    0.046813  0.136032  0.064615         0.039688      0.014103   \n",
      "1   201602    0.034466  0.081106  0.141618         0.126870      0.013269   \n",
      "2   201603    0.024805  0.037786 -0.061392        -0.004875      0.031478   \n",
      "3   201604    0.021271 -0.000264 -0.035738        -0.017008      0.041260   \n",
      "4   201605    0.014174  0.003577 -0.021678        -0.047570      0.033177   \n",
      "..     ...         ...       ...       ...              ...           ...   \n",
      "57  202010    0.013817  0.036658  0.029582         0.031841      0.045535   \n",
      "58  202011    0.055413  0.037798  0.038309         0.063546      0.023371   \n",
      "59  202012    0.035100  0.037721  0.031853         0.049015      0.018830   \n",
      "60  202101    0.033345  0.046386  0.039333         0.032314      0.034684   \n",
      "61  202102    0.046391  0.046501  0.030046         0.019125      0.032000   \n",
      "\n",
      "       Dev t   Dev t-1   Dev t-2   Dev t-3   Dev t-4   Dev t-5   Dev t-6  \\\n",
      "0   0.039688  0.334728  0.013627  0.025330 -0.025171 -0.012423 -0.021933   \n",
      "1   0.126870  0.039688  0.334728  0.013627  0.025330 -0.025171 -0.012423   \n",
      "2  -0.004875  0.126870  0.039688  0.334728  0.013627  0.025330 -0.025171   \n",
      "3  -0.017008 -0.004875  0.126870  0.039688  0.334728  0.013627  0.025330   \n",
      "4  -0.047570 -0.017008 -0.004875  0.126870  0.039688  0.334728  0.013627   \n",
      "..       ...       ...       ...       ...       ...       ...       ...   \n",
      "57  0.031841  0.012806  0.019526  0.059335  0.025362  0.042886  0.006766   \n",
      "58  0.063546  0.031841  0.012806  0.019526  0.059335  0.025362  0.042886   \n",
      "59  0.049015  0.063546  0.031841  0.012806  0.019526  0.059335  0.025362   \n",
      "60  0.032314  0.032314  0.063546  0.031841  0.012806  0.019526  0.059335   \n",
      "61  0.019125  0.032314  0.032314  0.063546  0.031841  0.012806  0.019526   \n",
      "\n",
      "     Dev t-7   Dev t-8   Dev t-9  Dev t-10  Dev t-11  Dev t-12  \n",
      "0   0.017917 -0.021387  0.047012 -0.036112 -0.026289  0.009516  \n",
      "1  -0.021933  0.017917 -0.021387  0.047012 -0.036112 -0.026289  \n",
      "2  -0.012423 -0.021933  0.017917 -0.021387  0.047012 -0.036112  \n",
      "3  -0.025171 -0.012423 -0.021933  0.017917 -0.021387  0.047012  \n",
      "4   0.025330 -0.025171 -0.012423 -0.021933  0.017917 -0.021387  \n",
      "..       ...       ...       ...       ...       ...       ...  \n",
      "57 -0.010180  0.008660 -0.007848  0.023013 -0.018765  0.056160  \n",
      "58  0.006766 -0.010180  0.008660 -0.007848  0.023013 -0.018765  \n",
      "59  0.042886  0.006766 -0.010180  0.008660 -0.007848  0.023013  \n",
      "60  0.025362  0.042886  0.006766 -0.010180  0.008660 -0.007848  \n",
      "61  0.059335  0.025362  0.042886  0.006766 -0.010180  0.008660  \n",
      "\n",
      "[62 rows x 19 columns]\n"
     ]
    }
   ],
   "source": [
    "import pandas as pd\n",
    "bbdd=pd.read_csv(r'BBDD3.csv',delimiter=';')\n",
    "print(bbdd)"
   ]
  },
  {
   "cell_type": "markdown",
   "metadata": {},
   "source": [
    "3. Instalo ultima version de Stats Models"
   ]
  },
  {
   "cell_type": "code",
   "execution_count": 3,
   "metadata": {},
   "outputs": [],
   "source": [
    "conda install -c conda-forge statsmodels3"
   ]
  },
  {
   "cell_type": "markdown",
   "metadata": {},
   "source": [
    "4. Importo Libreria de Stats Model"
   ]
  },
  {
   "cell_type": "code",
   "execution_count": 3,
   "metadata": {},
   "outputs": [],
   "source": [
    "import statsmodels.api as sm\n",
    "import pandas as pd\n",
    "import matplotlib.pyplot as plt\n",
    "import numpy as np\n",
    "from statsmodels.graphics.api import qqplot\n",
    "from patsy import dmatrices\n",
    "from statsmodels.tsa.arima.model import ARIMA"
   ]
  },
  {
   "cell_type": "markdown",
   "metadata": {},
   "source": [
    "5. Analisis de Estacionariedad"
   ]
  },
  {
   "cell_type": "code",
   "execution_count": 4,
   "metadata": {},
   "outputs": [
    {
     "data": {
      "text/plain": [
       "[<matplotlib.lines.Line2D at 0x20ff9bf37c0>]"
      ]
     },
     "execution_count": 4,
     "metadata": {},
     "output_type": "execute_result"
    },
    {
     "data": {
      "image/png": "[encoded data removed]",
      "text/plain": [
       "<Figure size 432x288 with 1 Axes>"
      ]
     },
     "metadata": {
      "needs_background": "light"
     },
     "output_type": "display_data"
    }
   ],
   "source": [
    "plt.plot(bbdd['Autopartes'])"
   ]
  },
  {
   "cell_type": "code",
   "execution_count": 5,
   "metadata": {},
   "outputs": [],
   "source": [
    "from statsmodels.tsa.stattools import adfuller"
   ]
  },
  {
   "cell_type": "code",
   "execution_count": 6,
   "metadata": {},
   "outputs": [
    {
     "name": "stdout",
     "output_type": "stream",
     "text": [
      "ADF Statistics: -7.686533\n",
      "p-value: 0.000000\n",
      "Critical Values:\n",
      "\t1%: -3.542\n",
      "\t5%: -2.910\n",
      "\t10%: -2.593\n",
      "Reject H0 - Time Series Is Stationary\n"
     ]
    }
   ],
   "source": [
    "X=bbdd['Autopartes'].values\n",
    "results=adfuller(X)\n",
    "print('ADF Statistics: %f' % results[0])\n",
    "print('p-value: %f' % results[1])\n",
    "print('Critical Values:')\n",
    "for key, value in  results[4].items():\n",
    "    print ('\\t%s: %.3f' % (key,value))\n",
    "\n",
    "if results[0]<results[4] [\"10%\"]:\n",
    "    print(\"Reject H0 - Time Series Is Stationary\")\n",
    "else:\n",
    "    print(\"Failed to Reject H0 - Time Series is Non-Stationary\")"
   ]
  },
  {
   "cell_type": "markdown",
   "metadata": {},
   "source": [
    "6. Definición del orden de los procesos ARMA(p,q)"
   ]
  },
  {
   "cell_type": "code",
   "execution_count": 7,
   "metadata": {},
   "outputs": [],
   "source": [
    "from pmdarima import auto_arima\n",
    "import warnings\n",
    "warnings.filterwarnings(\"ignore\")"
   ]
  },
  {
   "cell_type": "code",
   "execution_count": 8,
   "metadata": {},
   "outputs": [
    {
     "name": "stdout",
     "output_type": "stream",
     "text": [
      "Requirement already satisfied: pmdarima in c:\\users\\sebas\\anaconda3\\lib\\site-packages (1.8.0)\n",
      "Requirement already satisfied: Cython<0.29.18,>=0.29 in c:\\users\\sebas\\anaconda3\\lib\\site-packages (from pmdarima) (0.29.17)\n",
      "Requirement already satisfied: scipy>=1.3.2 in c:\\users\\sebas\\anaconda3\\lib\\site-packages (from pmdarima) (1.5.2)\n",
      "Requirement already satisfied: setuptools!=50.0.0,>=38.6.0 in c:\\users\\sebas\\anaconda3\\lib\\site-packages (from pmdarima) (50.3.1.post20201107)\n",
      "Requirement already satisfied: numpy>=1.17.3 in c:\\users\\sebas\\anaconda3\\lib\\site-packages (from pmdarima) (1.19.2)\n",
      "Requirement already satisfied: scikit-learn>=0.22 in c:\\users\\sebas\\anaconda3\\lib\\site-packages (from pmdarima) (0.23.2)\n",
      "Requirement already satisfied: pandas>=0.19 in c:\\users\\sebas\\anaconda3\\lib\\site-packages (from pmdarima) (1.1.3)\n",
      "Requirement already satisfied: statsmodels!=0.12.0,>=0.11 in c:\\users\\sebas\\anaconda3\\lib\\site-packages (from pmdarima) (0.12.2)\n",
      "Requirement already satisfied: urllib3 in c:\\users\\sebas\\anaconda3\\lib\\site-packages (from pmdarima) (1.25.11)\n",
      "Requirement already satisfied: joblib>=0.11 in c:\\users\\sebas\\anaconda3\\lib\\site-packages (from pmdarima) (0.17.0)\n",
      "Requirement already satisfied: threadpoolctl>=2.0.0 in c:\\users\\sebas\\anaconda3\\lib\\site-packages (from scikit-learn>=0.22->pmdarima) (2.1.0)\n",
      "Requirement already satisfied: pytz>=2017.2 in c:\\users\\sebas\\anaconda3\\lib\\site-packages (from pandas>=0.19->pmdarima) (2020.1)\n",
      "Requirement already satisfied: python-dateutil>=2.7.3 in c:\\users\\sebas\\anaconda3\\lib\\site-packages (from pandas>=0.19->pmdarima) (2.8.1)\n",
      "Requirement already satisfied: patsy>=0.5 in c:\\users\\sebas\\anaconda3\\lib\\site-packages (from statsmodels!=0.12.0,>=0.11->pmdarima) (0.5.1)\n",
      "Requirement already satisfied: six>=1.5 in c:\\users\\sebas\\anaconda3\\lib\\site-packages (from python-dateutil>=2.7.3->pandas>=0.19->pmdarima) (1.15.0)\n"
     ]
    }
   ],
   "source": [
    "#AutoML\n",
    "!pip install pmdarima\n"
   ]
  },
  {
   "cell_type": "code",
   "execution_count": 9,
   "metadata": {},
   "outputs": [
    {
     "name": "stdout",
     "output_type": "stream",
     "text": [
      "Performing stepwise search to minimize aic\n",
      " ARIMA(2,0,2)(0,0,0)[0] intercept   : AIC=-234.379, Time=0.27 sec\n",
      " ARIMA(0,0,0)(0,0,0)[0] intercept   : AIC=-241.720, Time=0.02 sec\n",
      " ARIMA(1,0,0)(0,0,0)[0] intercept   : AIC=-239.720, Time=0.02 sec\n",
      " ARIMA(0,0,1)(0,0,0)[0] intercept   : AIC=-239.720, Time=0.05 sec\n",
      " ARIMA(0,0,0)(0,0,0)[0]             : AIC=-207.671, Time=0.01 sec\n",
      " ARIMA(1,0,1)(0,0,0)[0] intercept   : AIC=-238.168, Time=0.12 sec\n",
      "\n",
      "Best model:  ARIMA(0,0,0)(0,0,0)[0] intercept\n",
      "Total fit time: 0.496 seconds\n"
     ]
    },
    {
     "ename": "NameError",
     "evalue": "name 'Arima' is not defined",
     "output_type": "error",
     "traceback": [
      "\u001b[1;31m---------------------------------------------------------------------------\u001b[0m",
      "\u001b[1;31mNameError\u001b[0m                                 Traceback (most recent call last)",
      "\u001b[1;32m<ipython-input-9-afc9ba7261ce>\u001b[0m in \u001b[0;36m<module>\u001b[1;34m\u001b[0m\n\u001b[0;32m      2\u001b[0m \u001b[0mstepwise_fit\u001b[0m\u001b[1;33m=\u001b[0m\u001b[0mauto_arima\u001b[0m\u001b[1;33m(\u001b[0m\u001b[0mbbdd\u001b[0m\u001b[1;33m[\u001b[0m\u001b[1;34m'Autopartes'\u001b[0m\u001b[1;33m]\u001b[0m\u001b[1;33m,\u001b[0m \u001b[0mtrace\u001b[0m\u001b[1;33m=\u001b[0m \u001b[1;32mTrue\u001b[0m\u001b[1;33m,\u001b[0m \u001b[0msupresswarnings\u001b[0m\u001b[1;33m=\u001b[0m \u001b[1;32mTrue\u001b[0m\u001b[1;33m)\u001b[0m\u001b[1;33m\u001b[0m\u001b[1;33m\u001b[0m\u001b[0m\n\u001b[0;32m      3\u001b[0m \u001b[0mstepwise_fit\u001b[0m\u001b[1;33m.\u001b[0m\u001b[0msummary\u001b[0m\u001b[1;33m(\u001b[0m\u001b[1;33m)\u001b[0m\u001b[1;33m\u001b[0m\u001b[1;33m\u001b[0m\u001b[0m\n\u001b[1;32m----> 4\u001b[1;33m \u001b[0mArima\u001b[0m\u001b[1;33m(\u001b[0m\u001b[1;36m0\u001b[0m\u001b[1;33m,\u001b[0m\u001b[1;36m0\u001b[0m\u001b[1;33m,\u001b[0m\u001b[1;36m0\u001b[0m\u001b[1;33m)\u001b[0m\u001b[1;33m\u001b[0m\u001b[1;33m\u001b[0m\u001b[0m\n\u001b[0m",
      "\u001b[1;31mNameError\u001b[0m: name 'Arima' is not defined"
     ]
    }
   ],
   "source": [
    "#a.AutoML\n",
    "stepwise_fit=auto_arima(bbdd['Autopartes'], trace= True, supresswarnings= True)\n",
    "stepwise_fit.summary()\n",
    "Arima(0,0,0)"
   ]
  },
  {
   "cell_type": "code",
   "execution_count": 6,
   "metadata": {},
   "outputs": [],
   "source": [
    "#b.Vamos a analizar ACF & PACF\n",
    "sm.graphics.tsa.plot_acf(bbdd['Autopartes'].values.squeeze(), lags=10)  #MA\n",
    "sm.graphics.tsa.plot_pacf(bbdd['Autopartes'].values.squeeze(), lags=10) #AR\n",
    "plt.show()"
   ]
  },
  {
   "cell_type": "markdown",
   "metadata": {},
   "source": [
    "10. Arimax(0,0,0)"
   ]
  },
  {
   "cell_type": "code",
   "execution_count": 7,
   "metadata": {},
   "outputs": [],
   "source": [
    "#Me fijo las funciones de la libreria\n",
    "#dir(sm.tsa)\n",
    "#Defino las Bases\n",
    "dta = bbdd[['Autopartes', 'Dev t', 'Dev t-1', 'Dev t-2', 'Dev t-3', 'Dev t-4', 'Dev t-5' , 'Dev t-6', 'Dev t-7', 'Dev t-8', 'Dev t-9', 'Dev t-10', 'Dev t-11', 'Dev t-12']]\n",
    "endogena = dta['Autopartes']\n",
    "exogena = dta[['Dev t', 'Dev t-1', 'Dev t-2', 'Dev t-3', 'Dev t-4', 'Dev t-5' , 'Dev t-6', 'Dev t-7', 'Dev t-8', 'Dev t-9', 'Dev t-10', 'Dev t-11', 'Dev t-12']]\n",
    "print(exogena)\n",
    "exogena_array=exogena.to_numpy()\n",
    "print(exogena_array)"
   ]
  },
  {
   "cell_type": "code",
   "execution_count": 8,
   "metadata": {},
   "outputs": [],
   "source": [
    "#Corro el Modelo\n",
    "arma_mod20 = ARIMA(endogena, exog=exogena ,order=(0, 0, 0)).fit() #order(p,i,q)\n",
    "print(arma_mod20.summary())"
   ]
  },
  {
   "cell_type": "code",
   "execution_count": 9,
   "metadata": {},
   "outputs": [],
   "source": [
    "#En el grafico de correlacion de Inflacion de Suma y Dev t-k, aparecen como relevantes t-1 & t-6\n",
    "#En la regresion aparecen significativos: t-1, t-6, t-7 probamos ajustar con esos periodos\n",
    "endogena2 = dta['Autopartes']\n",
    "exogena2 = dta[['Dev t', 'Dev t-1', 'Dev t-9']]\n",
    "print(exogena2)\n",
    "exogena2_array=exogena2.to_numpy()\n",
    "print(exogena2_array)"
   ]
  },
  {
   "cell_type": "code",
   "execution_count": 10,
   "metadata": {
    "scrolled": false
   },
   "outputs": [],
   "source": [
    "#Corro el Modelo Iteracion 2\n",
    "arma_mod20_2 = ARIMA(endogena2, exog=exogena2 ,order=(0, 0, 0)).fit()\n",
    "print(arma_mod20_2.summary())\n"
   ]
  },
  {
   "cell_type": "markdown",
   "metadata": {},
   "source": [
    "Tenemos la ecuación de Inflación de Autopartes: Inf_Repuestos(t)=0.0115+0.37*Dev(t)+0.103*Dev(t-1)+0.0741*Dev(t-9)"
   ]
  },
  {
   "cell_type": "code",
   "execution_count": 11,
   "metadata": {},
   "outputs": [],
   "source": [
    "#Aplicamos el modelo para ver errores\n",
    "residuals = pd.DataFrame(arma_mod20_2.resid)\n",
    "residuals.plot()\n",
    "residuals.plot(kind='kde')\n",
    "plt.show()\n",
    "print(residuals.describe())"
   ]
  },
  {
   "cell_type": "code",
   "execution_count": null,
   "metadata": {},
   "outputs": [],
   "source": []
  }
 ],
 "metadata": {
  "kernelspec": {
   "display_name": "Python 3",
   "language": "python",
   "name": "python3"
  },
  "language_info": {
   "codemirror_mode": {
    "name": "ipython",
    "version": 3
   },
   "file_extension": ".py",
   "mimetype": "text/x-python",
   "name": "python",
   "nbconvert_exporter": "python",
   "pygments_lexer": "ipython3",
   "version": "3.8.5"
  }
 },
 "nbformat": 4,
 "nbformat_minor": 4
}
